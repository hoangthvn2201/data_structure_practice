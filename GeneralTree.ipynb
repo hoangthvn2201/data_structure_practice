{
 "cells": [
  {
   "cell_type": "code",
   "execution_count": 34,
   "id": "1cc300a4-6d3e-4cfc-be53-8cee9e597fb6",
   "metadata": {},
   "outputs": [],
   "source": [
    "class TreeNode:\n",
    "    def __init__(self,data):\n",
    "        self.data = data\n",
    "        self.children = []\n",
    "        self.parent = None\n",
    "    def add_child(self,child):\n",
    "        child.parent =self\n",
    "        self.children.append(child)\n",
    "    def get_level(self):\n",
    "        level = 0\n",
    "        p = self.parent\n",
    "        while p:\n",
    "            level += 1\n",
    "            p = p.parent\n",
    "        return level\n",
    "    def print_tree(self):\n",
    "        spaces = ' ' * self.get_level()\n",
    "\n",
    "        print(spaces+self.data)\n",
    "        if self.children:\n",
    "            for child in self.children:\n",
    "                child.print_tree()"
   ]
  },
  {
   "cell_type": "code",
   "execution_count": 37,
   "id": "07afc475-df0d-41de-8f03-a9911ec21bcc",
   "metadata": {},
   "outputs": [],
   "source": [
    "def build_product_tree():\n",
    "    root = TreeNode(\"Electronics\")\n",
    "    laptop = TreeNode(\"Laptop\")\n",
    "    laptop.add_child(TreeNode(\"Mac\"))\n",
    "    laptop.add_child(TreeNode(\"Surface\"))\n",
    "    laptop.add_child(TreeNode(\"Thinkpad\"))\n",
    "\n",
    "    cellphone = TreeNode(\"Cell Phone\")\n",
    "    cellphone.add_child(TreeNode(\"Iphone\"))\n",
    "    cellphone.add_child(TreeNode(\"Google Pixel\"))\n",
    "    cellphone.add_child(TreeNode(\"Vivo\"))\n",
    "\n",
    "    tv = TreeNode(\"TV\")\n",
    "    tv.add_child(TreeNode(\"Samsung\"))\n",
    "    tv.add_child(TreeNode(\"LG\"))\n",
    "    \n",
    "    root.add_child(laptop)\n",
    "    root.add_child(cellphone)\n",
    "    root.add_child(tv)\n",
    "    \n",
    "    return root"
   ]
  },
  {
   "cell_type": "code",
   "execution_count": null,
   "id": "ff1c01d6-9920-48bd-8467-c2d8f3ad38de",
   "metadata": {},
   "outputs": [],
   "source": []
  },
  {
   "cell_type": "code",
   "execution_count": 38,
   "id": "c48ab391-c72d-4526-9099-3dfc8c580831",
   "metadata": {},
   "outputs": [],
   "source": [
    "root = build_product_tree()"
   ]
  },
  {
   "cell_type": "code",
   "execution_count": 39,
   "id": "ee56ea30-cd18-4b24-91e6-cda7d694bc53",
   "metadata": {},
   "outputs": [
    {
     "data": {
      "text/plain": [
       "[<__main__.TreeNode at 0x209fa816510>,\n",
       " <__main__.TreeNode at 0x209fa8163f0>,\n",
       " <__main__.TreeNode at 0x209fa815790>]"
      ]
     },
     "execution_count": 39,
     "metadata": {},
     "output_type": "execute_result"
    }
   ],
   "source": [
    "root.children"
   ]
  },
  {
   "cell_type": "code",
   "execution_count": 32,
   "id": "331f3067-d0d3-41ec-9f67-9465d10c47b4",
   "metadata": {},
   "outputs": [
    {
     "data": {
      "text/plain": [
       "'Electronics'"
      ]
     },
     "execution_count": 32,
     "metadata": {},
     "output_type": "execute_result"
    }
   ],
   "source": [
    "root.data"
   ]
  },
  {
   "cell_type": "code",
   "execution_count": 40,
   "id": "8695badd-2ee3-41ba-8393-e102cb7f1960",
   "metadata": {},
   "outputs": [
    {
     "name": "stdout",
     "output_type": "stream",
     "text": [
      "Electronics\n",
      " Laptop\n",
      "  Mac\n",
      "  Surface\n",
      "  Thinkpad\n",
      " Cell Phone\n",
      "  Iphone\n",
      "  Google Pixel\n",
      "  Vivo\n",
      " TV\n",
      "  Samsung\n",
      "  LG\n"
     ]
    }
   ],
   "source": [
    "root.print_tree()"
   ]
  }
 ],
 "metadata": {
  "kernelspec": {
   "display_name": "Python 3 (ipykernel)",
   "language": "python",
   "name": "python3"
  },
  "language_info": {
   "codemirror_mode": {
    "name": "ipython",
    "version": 3
   },
   "file_extension": ".py",
   "mimetype": "text/x-python",
   "name": "python",
   "nbconvert_exporter": "python",
   "pygments_lexer": "ipython3",
   "version": "3.12.3"
  }
 },
 "nbformat": 4,
 "nbformat_minor": 5
}
