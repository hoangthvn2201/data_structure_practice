{
 "cells": [
  {
   "cell_type": "code",
   "execution_count": 9,
   "id": "fe3b36bc-5daf-4982-a231-4ac9c1d241c0",
   "metadata": {},
   "outputs": [],
   "source": [
    "class Node:\n",
    "    def __init__(self,data=None,node=None):\n",
    "        self.data = data\n",
    "        self.next = next\n",
    "\n",
    "class LinkedList:\n",
    "    def __init__(self):\n",
    "        self.head = None\n",
    "    def insert_at_begining(self,data):\n",
    "        node = Node(data, self.head)\n",
    "        self.head = node\n",
    "    def print(self):\n",
    "        if self.head is None:\n",
    "            print(\"Linked List is empty\")\n",
    "            return\n",
    "        itr = self.head \n",
    "        llstr = ''\n",
    "        while itr:\n",
    "            llstr += str(itr.data) + \"-->\"\n",
    "            itr = itr.next\n",
    "        print(llstr)\n",
    "    def insert_at_end(self,data):\n",
    "        if self.head is None:\n",
    "            self.head = Node(data,None)\n",
    "            return\n",
    "        itr = self.head \n",
    "        while itr.next:\n",
    "            itr = itr.next\n",
    "        itr.next = Node(data,None)\n",
    "    def insert_values(self,data_list):\n",
    "        self.head = None\n",
    "        for i in data_list:\n",
    "            self.insert_at_end(i)\n",
    "    def get_length(self):\n",
    "        count = 0 \n",
    "        itr = self.head\n",
    "        while itr:\n",
    "            count += 1\n",
    "            itr = itr.next\n",
    "        return count\n",
    "    def remove_at(self,index):\n",
    "        if index <0 or index >= self.get_length():\n",
    "            raise Exception(\"Invalid\")\n",
    "        if index == 0:\n",
    "            self.head = self.head.next\n",
    "        count = 0\n",
    "        itr = self.head\n",
    "        while itr:\n",
    "            if count == index - 1:\n",
    "                itr.next = itr.next.next\n",
    "                break\n",
    "            count += 1\n",
    "            itr = itr.next"
   ]
  },
  {
   "cell_type": "code",
   "execution_count": 10,
   "id": "928a9293-bbdc-4fc4-98f3-7b6630e58115",
   "metadata": {},
   "outputs": [
    {
     "ename": "AttributeError",
     "evalue": "'builtin_function_or_method' object has no attribute 'data'",
     "output_type": "error",
     "traceback": [
      "\u001b[1;31m---------------------------------------------------------------------------\u001b[0m",
      "\u001b[1;31mAttributeError\u001b[0m                            Traceback (most recent call last)",
      "Cell \u001b[1;32mIn[10], line 4\u001b[0m\n\u001b[0;32m      1\u001b[0m ll \u001b[38;5;241m=\u001b[39m LinkedList()\n\u001b[0;32m      2\u001b[0m ll\u001b[38;5;241m.\u001b[39minsert_at_begining(\u001b[38;5;241m19\u001b[39m)\n\u001b[1;32m----> 4\u001b[0m ll\u001b[38;5;241m.\u001b[39mprint()\n",
      "Cell \u001b[1;32mIn[9], line 19\u001b[0m, in \u001b[0;36mLinkedList.print\u001b[1;34m(self)\u001b[0m\n\u001b[0;32m     17\u001b[0m llstr \u001b[38;5;241m=\u001b[39m \u001b[38;5;124m'\u001b[39m\u001b[38;5;124m'\u001b[39m\n\u001b[0;32m     18\u001b[0m \u001b[38;5;28;01mwhile\u001b[39;00m itr:\n\u001b[1;32m---> 19\u001b[0m     llstr \u001b[38;5;241m+\u001b[39m\u001b[38;5;241m=\u001b[39m \u001b[38;5;28mstr\u001b[39m(itr\u001b[38;5;241m.\u001b[39mdata) \u001b[38;5;241m+\u001b[39m \u001b[38;5;124m\"\u001b[39m\u001b[38;5;124m-->\u001b[39m\u001b[38;5;124m\"\u001b[39m\n\u001b[0;32m     20\u001b[0m     itr \u001b[38;5;241m=\u001b[39m itr\u001b[38;5;241m.\u001b[39mnext\n\u001b[0;32m     21\u001b[0m \u001b[38;5;28mprint\u001b[39m(llstr)\n",
      "\u001b[1;31mAttributeError\u001b[0m: 'builtin_function_or_method' object has no attribute 'data'"
     ]
    }
   ],
   "source": [
    "ll = LinkedList()\n",
    "ll.insert_at_begining(19)\n",
    "\n",
    "ll.print()"
   ]
  },
  {
   "cell_type": "code",
   "execution_count": 18,
   "id": "3d13315e-04fb-4a1f-990c-9d4f644b1b2e",
   "metadata": {},
   "outputs": [
    {
     "ename": "SyntaxError",
     "evalue": "incomplete input (178611379.py, line 73)",
     "output_type": "error",
     "traceback": [
      "\u001b[1;36m  Cell \u001b[1;32mIn[18], line 73\u001b[1;36m\u001b[0m\n\u001b[1;33m    \u001b[0m\n\u001b[1;37m    ^\u001b[0m\n\u001b[1;31mSyntaxError\u001b[0m\u001b[1;31m:\u001b[0m incomplete input\n"
     ]
    }
   ],
   "source": [
    "class Node:\n",
    "    def __init__(self,data=None, next=None):\n",
    "        self.data = data\n",
    "        self.next = next \n",
    "class LinkedList:\n",
    "    def __init__(self):\n",
    "        self.head = None\n",
    "    def insert_at_begining(self,data):\n",
    "        node = Node(data,self.head)\n",
    "        self.head = node\n",
    "    def print(self):\n",
    "        if self.head is None:\n",
    "            print(\"LinkedList is empty\")\n",
    "            return\n",
    "        itr = self.head\n",
    "        llstr = \"\"\n",
    "        while itr:\n",
    "            llstr += f\"{itr.data} --> \"\n",
    "            itr = itr.next\n",
    "        print(llstr)\n",
    "    def insert_at_end(self, data):\n",
    "        if self.head is None:\n",
    "            self.insert_at_begining(data)\n",
    "            return\n",
    "        itr = self.head\n",
    "        while itr.next:\n",
    "            itr = itr.next\n",
    "        itr.next = Node(data,None)\n",
    "    def insert_values(self,data_list):\n",
    "        self.head = None\n",
    "        for data in data_list:\n",
    "            self.insert_at_end(data)\n",
    "    def get_length(self):\n",
    "        count = 0\n",
    "        itr = self.head\n",
    "        while itr:\n",
    "            count += 1\n",
    "            itr = itr.next \n",
    "        print(f\"Length of the current linked list is: {count}\")\n",
    "        return count\n",
    "    def remove_at(self,index):\n",
    "        if index < 0 or index > self.get_length():\n",
    "            raise Exception(\"Invalid value\")\n",
    "        if index == 0:\n",
    "            self.head = self.head.next\n",
    "            return\n",
    "        itr = self.head \n",
    "        count = 0\n",
    "        while itr:\n",
    "            if count == index-1:\n",
    "                itr.next = itr.next.next\n",
    "                break\n",
    "            count += 1\n",
    "            itr = itr.next\n",
    "    def insert_at(self,index,data):\n",
    "        if index < 0 or index > self.get_length():\n",
    "            raise Exception(\"Invalid value\")\n",
    "        if index == 0:\n",
    "            self.insert_at_begining(data)\n",
    "        itr = self.head\n",
    "        count = 0\n",
    "        while itr:\n",
    "            if count == index -1:\n",
    "                node = Node(data,itr.next)\n",
    "                itr.next = node\n",
    "                return\n",
    "            count += 1\n",
    "            itr = itr.next\n",
    "\n",
    "    def insert_after_value(self,data_after,data_to_insert):\n",
    "        itr = self.head\n",
    "        while itr:\n",
    "            while itr.data != data_after:\n",
    "                itr = itr.next\n",
    "            node = Node(data_to_insert,itr.next)\n",
    "            itr.next = node\n",
    "            return\n",
    "        raise Exception('Not found values')\n",
    "    def remove_by_value(self,data):\n",
    "        itr = self.head \n",
    "        if itr.data == data:\n",
    "            self.head = self.head.next\n",
    "        while itr.next:\n",
    "            \n",
    "        "
   ]
  },
  {
   "cell_type": "code",
   "execution_count": 17,
   "id": "5ea9e4c2-6f3d-43da-8e51-361ffa7d96ae",
   "metadata": {},
   "outputs": [
    {
     "name": "stdout",
     "output_type": "stream",
     "text": [
      "Length of the current linked list is: 5\n",
      "Length of the current linked list is: 4\n",
      "8 --> 6 --> 3 --> 9 --> 9 --> \n",
      "Length of the current linked list is: 5\n"
     ]
    },
    {
     "data": {
      "text/plain": [
       "5"
      ]
     },
     "execution_count": 17,
     "metadata": {},
     "output_type": "execute_result"
    }
   ],
   "source": [
    "ll = LinkedList()\n",
    "ll.insert_at_begining(3)\n",
    "ll.insert_at_begining(6)\n",
    "ll.insert_at_begining(8)\n",
    "ll.insert_at_end(9)\n",
    "ll.insert_at_end(19)\n",
    "ll.remove_at(4)\n",
    "ll.insert_at(3,9)\n",
    "ll.print()\n",
    "ll.get_length()"
   ]
  }
 ],
 "metadata": {
  "kernelspec": {
   "display_name": "Python 3 (ipykernel)",
   "language": "python",
   "name": "python3"
  },
  "language_info": {
   "codemirror_mode": {
    "name": "ipython",
    "version": 3
   },
   "file_extension": ".py",
   "mimetype": "text/x-python",
   "name": "python",
   "nbconvert_exporter": "python",
   "pygments_lexer": "ipython3",
   "version": "3.12.3"
  }
 },
 "nbformat": 4,
 "nbformat_minor": 5
}
