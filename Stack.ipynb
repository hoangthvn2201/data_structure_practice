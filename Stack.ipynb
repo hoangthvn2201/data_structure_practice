{
 "cells": [
  {
   "cell_type": "code",
   "execution_count": 1,
   "id": "4222474d-0901-4ba3-9d88-6bf65dd572dd",
   "metadata": {},
   "outputs": [
    {
     "data": {
      "text/plain": [
       "deque(['https://1', 'https://2'])"
      ]
     },
     "execution_count": 1,
     "metadata": {},
     "output_type": "execute_result"
    }
   ],
   "source": [
    "from collections import deque\n",
    "stack = deque()\n",
    "stack.append('https://1')\n",
    "stack.append('https://2')\n",
    "stack\n"
   ]
  },
  {
   "cell_type": "code",
   "execution_count": 2,
   "id": "c9a599b2-7e37-41aa-be8e-692d0b674f7b",
   "metadata": {},
   "outputs": [
    {
     "data": {
      "text/plain": [
       "'https://2'"
      ]
     },
     "execution_count": 2,
     "metadata": {},
     "output_type": "execute_result"
    }
   ],
   "source": [
    "stack.pop()"
   ]
  },
  {
   "cell_type": "code",
   "execution_count": null,
   "id": "c2369c18-46c0-4eba-a9b0-66955d444cad",
   "metadata": {},
   "outputs": [],
   "source": []
  }
 ],
 "metadata": {
  "kernelspec": {
   "display_name": "Python 3 (ipykernel)",
   "language": "python",
   "name": "python3"
  },
  "language_info": {
   "codemirror_mode": {
    "name": "ipython",
    "version": 3
   },
   "file_extension": ".py",
   "mimetype": "text/x-python",
   "name": "python",
   "nbconvert_exporter": "python",
   "pygments_lexer": "ipython3",
   "version": "3.12.3"
  }
 },
 "nbformat": 4,
 "nbformat_minor": 5
}
