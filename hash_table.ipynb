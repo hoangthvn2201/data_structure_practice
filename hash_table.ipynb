{
 "cells": [
  {
   "cell_type": "code",
   "execution_count": 2,
   "id": "87718cbe-f555-4d46-a4a8-003b0a1d87ab",
   "metadata": {},
   "outputs": [],
   "source": [
    "def get_hash(key):\n",
    "    h = 0\n",
    "    for char in key:\n",
    "        h += ord(char)\n",
    "    return h % 100"
   ]
  },
  {
   "cell_type": "code",
   "execution_count": 3,
   "id": "93f24498-de95-43a6-b3ce-8652d6284075",
   "metadata": {},
   "outputs": [
    {
     "data": {
      "text/plain": [
       "9"
      ]
     },
     "execution_count": 3,
     "metadata": {},
     "output_type": "execute_result"
    }
   ],
   "source": [
    "get_hash('march 6')"
   ]
  },
  {
   "cell_type": "code",
   "execution_count": 54,
   "id": "55589e53-9325-4846-adbe-cb3aa03b016c",
   "metadata": {},
   "outputs": [],
   "source": [
    "class HashTable:\n",
    "    def __init__(self):\n",
    "        self.MAX = 10\n",
    "        self.arr = [[] for i in range(self.MAX)]\n",
    "    def get_hash(self,key):\n",
    "        h = 0\n",
    "        for char in key:\n",
    "            h += ord(char)\n",
    "        return h % self.MAX\n",
    "    def get_prob_range(self,index):\n",
    "        return [*range(index,len(self.arr))] + [*range(0,index)]\n",
    "    def find_slot(self,key,index):\n",
    "        prob_range = self.get_prob_range(index)\n",
    "        for prob_index in prob_range:\n",
    "            if self.arr[prob_index] is None:\n",
    "                return prob_index\n",
    "            if self.arr[prob_index][0] == key:\n",
    "                return prob_index\n",
    "        raise Exception(\"Hashmap full\")\n",
    "    def __setitem__(self,key,val):\n",
    "        h = self.get_hash(key)\n",
    "        if self.arr[h] is None:\n",
    "            self.arr[h] = (key,val)\n",
    "        else:\n",
    "            new_h = self.find_slot(key,h)\n",
    "            self.arr[new_h] = (key,val)\n",
    "        print(self.arr)\n",
    "    def __getitem__(self,key):\n",
    "        h = self.get_hash(key)\n",
    "        if self.arr[h] is None:\n",
    "            return \n",
    "        prob_range = self.get_prob_range(h)\n",
    "        for prob_index in prob_range:\n",
    "            element = self.arr[prob_index]\n",
    "            if element is None:\n",
    "                return\n",
    "            if element[0] == key:\n",
    "                return element[1]\n",
    "    def __delitem__(self,key):\n",
    "        h = self.get_hash(key)\n",
    "        for index, element in enumerate(self.arr[h]):\n",
    "            if element[0] == key:\n",
    "                del self.arr[h][index]\n",
    "                "
   ]
  },
  {
   "cell_type": "code",
   "execution_count": 55,
   "id": "1c515e5c-1fc5-4830-b67a-0f7f04501765",
   "metadata": {},
   "outputs": [],
   "source": [
    "t = HashTable()\n",
    "t['march 6'] = 120\n",
    "t['march 6'] = 78\n",
    "t['march 8'] = 67\n",
    "t['march 9'] = 4\n",
    "t['march 17'] = 459\n",
    "\n"
   ]
  },
  {
   "cell_type": "code",
   "execution_count": 56,
   "id": "1113123c-fae2-4563-8372-d64d8092356f",
   "metadata": {},
   "outputs": [
    {
     "data": {
      "text/plain": [
       "[[],\n",
       " [('march 8', 67)],\n",
       " [('march 9', 4)],\n",
       " [],\n",
       " [],\n",
       " [],\n",
       " [],\n",
       " [],\n",
       " [],\n",
       " [('march 6', 78), ('march 17', 459)]]"
      ]
     },
     "execution_count": 56,
     "metadata": {},
     "output_type": "execute_result"
    }
   ],
   "source": [
    "t.arr"
   ]
  },
  {
   "cell_type": "code",
   "execution_count": 57,
   "id": "0a1df654-881e-43cb-94ea-6641d8c7c2ce",
   "metadata": {},
   "outputs": [],
   "source": [
    "del t['march 17']"
   ]
  },
  {
   "cell_type": "code",
   "execution_count": 58,
   "id": "c62e0e9f-1b67-457b-86f8-a2fd630db1d3",
   "metadata": {},
   "outputs": [
    {
     "data": {
      "text/plain": [
       "[[],\n",
       " [('march 8', 67)],\n",
       " [('march 9', 4)],\n",
       " [],\n",
       " [],\n",
       " [],\n",
       " [],\n",
       " [],\n",
       " [],\n",
       " [('march 6', 78)]]"
      ]
     },
     "execution_count": 58,
     "metadata": {},
     "output_type": "execute_result"
    }
   ],
   "source": [
    "t.arr\n"
   ]
  },
  {
   "cell_type": "code",
   "execution_count": 59,
   "id": "e534b70c-ca4b-4bfc-81ae-7770be7a700a",
   "metadata": {},
   "outputs": [],
   "source": [
    "del t['march 6']"
   ]
  },
  {
   "cell_type": "code",
   "execution_count": 60,
   "id": "b14a3ea7-be50-4fbc-b454-24f7faa404bc",
   "metadata": {},
   "outputs": [
    {
     "data": {
      "text/plain": [
       "[[], [('march 8', 67)], [('march 9', 4)], [], [], [], [], [], [], []]"
      ]
     },
     "execution_count": 60,
     "metadata": {},
     "output_type": "execute_result"
    }
   ],
   "source": [
    "t.arr"
   ]
  },
  {
   "cell_type": "code",
   "execution_count": null,
   "id": "ca1284e4-deca-4fb8-a73a-6db3fa51e388",
   "metadata": {},
   "outputs": [],
   "source": [
    "class HashTable:\n",
    "    def __init__(self):\n",
    "        self.MAX = 10\n",
    "        self.arr = [[] for i in range(self.MAX)]\n",
    "    def get_hash(self,key):\n",
    "        h = 0\n",
    "        for char in key:\n",
    "            h += ord(char)\n",
    "        return h % self.MAX\n",
    "    def __setitem__(self,key,val):\n",
    "        h = self.get_hash(key)\n",
    "        found = False\n",
    "        for idx,element in enumerate(self.arr[h]):\n",
    "            if len(element) == 2 and element[0]==key:\n",
    "                self.arr[h][idx] = (key,val)\n",
    "                found = True\n",
    "        if not found:\n",
    "            self.arr[h].append((key,val))\n",
    "    def __getitem__(self,key):\n",
    "        h = self.get_hash(key)\n",
    "        for element in self.arr[h]:\n",
    "            if element[0] == key:\n",
    "                return element[1]\n",
    "    def __delitem__(self,key):\n",
    "        h = self.get_hash(key)\n",
    "        for index, element in enumerate(self.arr[h]):\n",
    "            if element[0] == key:\n",
    "                del self.arr[h][index]"
   ]
  },
  {
   "cell_type": "code",
   "execution_count": 71,
   "id": "d9d2dae7-9e64-4031-911d-42c8cba9efb9",
   "metadata": {},
   "outputs": [],
   "source": [
    "#exercise: hash table\n",
    "#1\n",
    "import pandas as pd\n",
    "\n",
    "\n",
    "df = pd.read_csv('nyc_weather.csv')\n",
    "t1 = HashTable()\n",
    "for i in range(df.shape[0]):\n",
    "    t1[df.iloc[i,0]] = df.iloc[i,1]"
   ]
  },
  {
   "cell_type": "code",
   "execution_count": 72,
   "id": "f58eb1f0-d5cf-47a9-91d0-70c521f69b12",
   "metadata": {},
   "outputs": [
    {
     "data": {
      "text/plain": [
       "[[('Jan 9', 35), ('Jan 10', 30)],\n",
       " [],\n",
       " [('Jan 1', 27)],\n",
       " [('Jan 2', 31)],\n",
       " [('Jan 3', 23)],\n",
       " [('Jan 4', 34)],\n",
       " [('Jan 5', 37)],\n",
       " [('Jan 6', 38)],\n",
       " [('Jan 7', 29)],\n",
       " [('Jan 8', 30)]]"
      ]
     },
     "execution_count": 72,
     "metadata": {},
     "output_type": "execute_result"
    }
   ],
   "source": [
    "t1.arr"
   ]
  },
  {
   "cell_type": "code",
   "execution_count": 75,
   "id": "b3ddd9dd-7637-4233-81c8-c7a375fa2c37",
   "metadata": {},
   "outputs": [
    {
     "name": "stdout",
     "output_type": "stream",
     "text": [
      "Temperature of Jan 9 is: 35\n",
      "Temperature of Jan 4 is: 34\n"
     ]
    }
   ],
   "source": [
    "print('Temperature of Jan 9 is: ' + str(t1['Jan 9']))\n",
    "print('Temperature of Jan 4 is: ' + str(t1['Jan 4']))"
   ]
  }
 ],
 "metadata": {
  "kernelspec": {
   "display_name": "Python 3 (ipykernel)",
   "language": "python",
   "name": "python3"
  },
  "language_info": {
   "codemirror_mode": {
    "name": "ipython",
    "version": 3
   },
   "file_extension": ".py",
   "mimetype": "text/x-python",
   "name": "python",
   "nbconvert_exporter": "python",
   "pygments_lexer": "ipython3",
   "version": "3.12.3"
  }
 },
 "nbformat": 4,
 "nbformat_minor": 5
}
